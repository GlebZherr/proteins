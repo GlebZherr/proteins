{
 "cells": [
  {
   "cell_type": "code",
   "execution_count": 112,
   "metadata": {},
   "outputs": [],
   "source": [
    "import json\n",
    "import joblib\n",
    "import pandas as pd\n",
    "import networkx as nx\n",
    "import numpy as np\n",
    "import matplotlib.pyplot as plt\n",
    "import seaborn as sns\n",
    "\n",
    "from tqdm import tqdm\n",
    "\n",
    "from sklearn.pipeline import Pipeline\n",
    "from sklearn.linear_model import LinearRegression, ElasticNet\n",
    "from sklearn.ensemble import RandomForestRegressor\n",
    "from sklearn.svm import SVR\n",
    "from sklearn.metrics import mean_absolute_error, mean_squared_error, r2_score, root_mean_squared_error\n",
    "from sklearn.preprocessing import StandardScaler, MinMaxScaler, KBinsDiscretizer\n",
    "\n",
    "import catboost\n",
    "import torch"
   ]
  },
  {
   "cell_type": "markdown",
   "metadata": {},
   "source": [
    "# Задание - Предсказание уровня экспресси белка"
   ]
  },
  {
   "cell_type": "markdown",
   "metadata": {},
   "source": [
    "<img src='https://www.researchgate.net/publication/313504607/figure/fig3/AS:459880453677066@1486655453033/Protein-protein-interaction-PPI-network-of-DEGs-by-STRING-The-interaction-score-was.png'>\n",
    "\n",
    "\n"
   ]
  },
  {
   "cell_type": "markdown",
   "metadata": {},
   "source": [
    "<div class=\"alert alert-info\">\n",
    "<b>Про биологию</b>\n",
    "    \n",
    "Экспрессия — процесс, в ходе которого наследственная информация от гена (последовательности нуклеотидов ДНК) преобразуется в функциональный продукт — белок. Уровнем экспрессии называют - количество белка, производящегося в этом процессе. Чем выше экспрессия белка, тем большее количество этого белка появляется в клетках человека. \n",
    "    \n",
    "    "
   ]
  },
  {
   "cell_type": "markdown",
   "metadata": {},
   "source": [
    "<div class=\"alert alert-info\">    \n",
    "<b>Важность задачи</b>\n",
    "    \n",
    "Существует множество причин необходимости в знании уровня экспресии белка. Например - это позволяет ученым разрабатывать лекарственные средства и оптимизировать их разработку. Теперь вам предстоит побыть в роли биоинформатика и помочь науке!\n",
    "    \n",
    "</div>"
   ]
  },
  {
   "cell_type": "code",
   "execution_count": null,
   "metadata": {},
   "outputs": [],
   "source": []
  },
  {
   "cell_type": "markdown",
   "metadata": {},
   "source": [
    "\n",
    "<div class=\"alert alert-info\">\n",
    "<b>Про Датасет</b>\n",
    "    \n",
    "Датасет представляет собой граф взаимойдествия белков. Где узлы это белки, взаимодействие между белками это ребро. \n",
    "\n",
    "Для каждого белка известен уровень его экспрессии. Ниже приведен список ребер `edges`. Информация по экспрессии белков, разбитая на `train` и `test`.\n",
    "   \n",
    "    \n",
    "</div>"
   ]
  },
  {
   "cell_type": "code",
   "execution_count": 2,
   "metadata": {},
   "outputs": [
    {
     "data": {
      "text/html": [
       "<div>\n",
       "<style scoped>\n",
       "    .dataframe tbody tr th:only-of-type {\n",
       "        vertical-align: middle;\n",
       "    }\n",
       "\n",
       "    .dataframe tbody tr th {\n",
       "        vertical-align: top;\n",
       "    }\n",
       "\n",
       "    .dataframe thead th {\n",
       "        text-align: right;\n",
       "    }\n",
       "</style>\n",
       "<table border=\"1\" class=\"dataframe\">\n",
       "  <thead>\n",
       "    <tr style=\"text-align: right;\">\n",
       "      <th></th>\n",
       "      <th>node_1</th>\n",
       "      <th>node_2</th>\n",
       "    </tr>\n",
       "  </thead>\n",
       "  <tbody>\n",
       "    <tr>\n",
       "      <th>0</th>\n",
       "      <td>344</td>\n",
       "      <td>50</td>\n",
       "    </tr>\n",
       "    <tr>\n",
       "      <th>1</th>\n",
       "      <td>344</td>\n",
       "      <td>153</td>\n",
       "    </tr>\n",
       "    <tr>\n",
       "      <th>2</th>\n",
       "      <td>344</td>\n",
       "      <td>532</td>\n",
       "    </tr>\n",
       "    <tr>\n",
       "      <th>3</th>\n",
       "      <td>344</td>\n",
       "      <td>679</td>\n",
       "    </tr>\n",
       "    <tr>\n",
       "      <th>4</th>\n",
       "      <td>344</td>\n",
       "      <td>986</td>\n",
       "    </tr>\n",
       "  </tbody>\n",
       "</table>\n",
       "</div>"
      ],
      "text/plain": [
       "   node_1  node_2\n",
       "0     344      50\n",
       "1     344     153\n",
       "2     344     532\n",
       "3     344     679\n",
       "4     344     986"
      ]
     },
     "execution_count": 2,
     "metadata": {},
     "output_type": "execute_result"
    }
   ],
   "source": [
    "#Список ребер графа \n",
    "\n",
    "edges = pd.read_csv(\"https://raw.githubusercontent.com/a-milenkin/Otus_HW_protein_expression/main/edges.csv\", sep=\",\") # Подгрузим данные\n",
    "edges.head()"
   ]
  },
  {
   "cell_type": "code",
   "execution_count": 3,
   "metadata": {},
   "outputs": [
    {
     "data": {
      "text/html": [
       "<div>\n",
       "<style scoped>\n",
       "    .dataframe tbody tr th:only-of-type {\n",
       "        vertical-align: middle;\n",
       "    }\n",
       "\n",
       "    .dataframe tbody tr th {\n",
       "        vertical-align: top;\n",
       "    }\n",
       "\n",
       "    .dataframe thead th {\n",
       "        text-align: right;\n",
       "    }\n",
       "</style>\n",
       "<table border=\"1\" class=\"dataframe\">\n",
       "  <thead>\n",
       "    <tr style=\"text-align: right;\">\n",
       "      <th></th>\n",
       "      <th>target</th>\n",
       "      <th>node</th>\n",
       "    </tr>\n",
       "  </thead>\n",
       "  <tbody>\n",
       "    <tr>\n",
       "      <th>0</th>\n",
       "      <td>0.251968</td>\n",
       "      <td>11142</td>\n",
       "    </tr>\n",
       "    <tr>\n",
       "      <th>1</th>\n",
       "      <td>0.689541</td>\n",
       "      <td>2243</td>\n",
       "    </tr>\n",
       "    <tr>\n",
       "      <th>2</th>\n",
       "      <td>0.678245</td>\n",
       "      <td>15514</td>\n",
       "    </tr>\n",
       "    <tr>\n",
       "      <th>3</th>\n",
       "      <td>0.272500</td>\n",
       "      <td>20944</td>\n",
       "    </tr>\n",
       "    <tr>\n",
       "      <th>4</th>\n",
       "      <td>0.248888</td>\n",
       "      <td>8721</td>\n",
       "    </tr>\n",
       "  </tbody>\n",
       "</table>\n",
       "</div>"
      ],
      "text/plain": [
       "     target   node\n",
       "0  0.251968  11142\n",
       "1  0.689541   2243\n",
       "2  0.678245  15514\n",
       "3  0.272500  20944\n",
       "4  0.248888   8721"
      ]
     },
     "execution_count": 3,
     "metadata": {},
     "output_type": "execute_result"
    }
   ],
   "source": [
    "#Подгрузим тренирочную выборку\n",
    "train = pd.read_csv(\"https://raw.githubusercontent.com/a-milenkin/Otus_HW_protein_expression/main/train.csv\", sep=\",\") # Подгрузим данные\n",
    "train.head()"
   ]
  },
  {
   "cell_type": "code",
   "execution_count": 4,
   "metadata": {},
   "outputs": [
    {
     "data": {
      "text/html": [
       "<div>\n",
       "<style scoped>\n",
       "    .dataframe tbody tr th:only-of-type {\n",
       "        vertical-align: middle;\n",
       "    }\n",
       "\n",
       "    .dataframe tbody tr th {\n",
       "        vertical-align: top;\n",
       "    }\n",
       "\n",
       "    .dataframe thead th {\n",
       "        text-align: right;\n",
       "    }\n",
       "</style>\n",
       "<table border=\"1\" class=\"dataframe\">\n",
       "  <thead>\n",
       "    <tr style=\"text-align: right;\">\n",
       "      <th></th>\n",
       "      <th>target</th>\n",
       "      <th>node</th>\n",
       "    </tr>\n",
       "  </thead>\n",
       "  <tbody>\n",
       "    <tr>\n",
       "      <th>0</th>\n",
       "      <td>0.279231</td>\n",
       "      <td>817</td>\n",
       "    </tr>\n",
       "    <tr>\n",
       "      <th>1</th>\n",
       "      <td>0.380795</td>\n",
       "      <td>9574</td>\n",
       "    </tr>\n",
       "    <tr>\n",
       "      <th>2</th>\n",
       "      <td>0.686527</td>\n",
       "      <td>1607</td>\n",
       "    </tr>\n",
       "    <tr>\n",
       "      <th>3</th>\n",
       "      <td>0.303594</td>\n",
       "      <td>4782</td>\n",
       "    </tr>\n",
       "    <tr>\n",
       "      <th>4</th>\n",
       "      <td>0.367374</td>\n",
       "      <td>24125</td>\n",
       "    </tr>\n",
       "  </tbody>\n",
       "</table>\n",
       "</div>"
      ],
      "text/plain": [
       "     target   node\n",
       "0  0.279231    817\n",
       "1  0.380795   9574\n",
       "2  0.686527   1607\n",
       "3  0.303594   4782\n",
       "4  0.367374  24125"
      ]
     },
     "execution_count": 4,
     "metadata": {},
     "output_type": "execute_result"
    }
   ],
   "source": [
    "# Подгрузим отложенную выборку для валидации\n",
    "test = pd.read_csv(\"https://raw.githubusercontent.com/a-milenkin/Otus_HW_protein_expression/main/test.csv\", sep=\",\")\n",
    "test.head()"
   ]
  },
  {
   "cell_type": "markdown",
   "metadata": {},
   "source": [
    "<div class=\"alert alert-info\">\n",
    "<b>Про Задачу</b>\n",
    "    \n",
    "Вам предлагается предсказать экспрессию белков (`target`) по приведенным данным для отложенной выборки. Ответы в отложенной выборке `test` даны вам для самостоятельной валидации.\n",
    "\n",
    "\n",
    "    \n",
    "   \n",
    "    "
   ]
  },
  {
   "cell_type": "markdown",
   "metadata": {},
   "source": [
    "<div class=\"alert alert-info\">\n",
    "<b>Замечание и комментарии</b>\n",
    "    \n",
    "    \n",
    "\n",
    "По ряду причин датасет был упрощен так, чтобы выполнялись следующие условия:\n",
    "* у графа одна компонента связанности. \n",
    "* удалены слишком крупные хабы\n",
    "* плотность связей графа уменьшена\n",
    "* решить задачу можно классическими ML подходами\n",
    "    \n",
    "   "
   ]
  },
  {
   "cell_type": "markdown",
   "metadata": {},
   "source": [
    "<div class=\"alert alert-info\">\n",
    "<b>Оценка результатов</b>\n",
    "    \n",
    "\n",
    "\n",
    "Оценка точности модели будет оцениваться по метрике MSE на отложенной выборке `test`\n",
    "        \n",
    "</div>"
   ]
  },
  {
   "cell_type": "markdown",
   "metadata": {},
   "source": [
    "<div class=\"alert alert-info\">\n",
    "<b>Автор задачи</b>\n",
    "\n",
    "По всем дополнительным вопросами писать Александру Миленькину\n",
    "* Телеграмм: Alerin75infskin\n",
    "* Почта: milenkin.aa@phystech.edu\n",
    "        \n",
    "</div>"
   ]
  },
  {
   "cell_type": "markdown",
   "metadata": {},
   "source": [
    "### Approach description"
   ]
  },
  {
   "cell_type": "markdown",
   "metadata": {},
   "source": [
    "1. Экспрессиия - характеристика белка. В свою очередь, белок можно представить в виде узла графа, где рёбрами будут взаимодействия между белками.\n",
    "1. Логичным подходом для построения классической ML-модели будет генерация признаков узлов в графе\n",
    "1. Для этого можно использовать следующие характеристики:\n",
    "    * коэффициент кластеризации для узла\n",
    "    * степень узла\n",
    "    * меры центральности\n",
    "        * degree centrality\n",
    "        * betweennes centrality\n",
    "        * closeness centrality\n",
    "        * eignvector centrality\n",
    "        * information centrality\n",
    "    * количество клик, в которые входит узел\n",
    "    * размер максимальной клики, в которую входит узел\n",
    "    * входит ли узел в мосты графа и т.д.\n",
    "1. В результате, можно построить алгоритм, решающий задачу регрессии"
   ]
  },
  {
   "cell_type": "markdown",
   "metadata": {},
   "source": [
    "### Make graph"
   ]
  },
  {
   "cell_type": "code",
   "execution_count": 7,
   "metadata": {},
   "outputs": [
    {
     "data": {
      "text/plain": [
       "(594174, 2)"
      ]
     },
     "execution_count": 7,
     "metadata": {},
     "output_type": "execute_result"
    }
   ],
   "source": [
    "edges.shape"
   ]
  },
  {
   "cell_type": "code",
   "execution_count": 8,
   "metadata": {},
   "outputs": [],
   "source": [
    "gr = nx.Graph()\n",
    "gr.add_edges_from(edges.to_numpy())"
   ]
  },
  {
   "cell_type": "code",
   "execution_count": 9,
   "metadata": {},
   "outputs": [
    {
     "data": {
      "text/plain": [
       "594174"
      ]
     },
     "execution_count": 9,
     "metadata": {},
     "output_type": "execute_result"
    }
   ],
   "source": [
    "gr.number_of_edges()"
   ]
  },
  {
   "cell_type": "code",
   "execution_count": 10,
   "metadata": {},
   "outputs": [
    {
     "data": {
      "text/plain": [
       "10000"
      ]
     },
     "execution_count": 10,
     "metadata": {},
     "output_type": "execute_result"
    }
   ],
   "source": [
    "len(gr.nodes())"
   ]
  },
  {
   "cell_type": "markdown",
   "metadata": {},
   "source": [
    "### Draw graph"
   ]
  },
  {
   "cell_type": "code",
   "execution_count": 11,
   "metadata": {},
   "outputs": [],
   "source": [
    "nodes_mapping = {k: node for k, node in enumerate(sorted(gr.nodes()))}\n",
    "nodes_mapping_rev = {node: k for k, node in enumerate(sorted(gr.nodes()))}"
   ]
  },
  {
   "cell_type": "code",
   "execution_count": null,
   "metadata": {},
   "outputs": [],
   "source": [
    "# некоторые параметры визауализации графа\n",
    "node_size = 600\n",
    "with_labels=True\n",
    "node_color=\"r\"\n",
    "# отрисовка графа\n",
    "plt.figure(figsize=(10,10))\n",
    "nx.draw_networkx(gr,\n",
    "                 pos=nx.kamada_kawai_layout(gr), # вариант макета укладки графа\n",
    "                 with_labels=with_labels, # добавление меток к варшинам графа\n",
    "                 node_size=node_size, # размер узлов\n",
    "                 node_color=node_color, # цвет узлов\n",
    "                 labels=nodes_mapping_rev # маркировка вершин их атрибутами\n",
    "                 )\n",
    "plt.axis(\"off\")\n",
    "plt.show()"
   ]
  },
  {
   "cell_type": "markdown",
   "metadata": {},
   "source": [
    "К сожалению, из-за размера графа отрисовка будет идти долго :("
   ]
  },
  {
   "cell_type": "markdown",
   "metadata": {},
   "source": [
    "### Make features"
   ]
  },
  {
   "cell_type": "markdown",
   "metadata": {},
   "source": [
    "#### Степень узла"
   ]
  },
  {
   "cell_type": "code",
   "execution_count": 70,
   "metadata": {},
   "outputs": [],
   "source": [
    "degrees = dict(gr.degree)\n",
    "degrees = dict(sorted(degrees.items(), key=lambda x: x[0]))"
   ]
  },
  {
   "cell_type": "markdown",
   "metadata": {},
   "source": [
    "#### Кластерный коэффициент"
   ]
  },
  {
   "cell_type": "code",
   "execution_count": 72,
   "metadata": {},
   "outputs": [],
   "source": [
    "clustering_coefs = nx.clustering(gr)\n",
    "clustering_coefs = dict(sorted(clustering_coefs.items(), key=lambda x: x[0]))"
   ]
  },
  {
   "cell_type": "markdown",
   "metadata": {},
   "source": [
    "#### Degree centrality"
   ]
  },
  {
   "cell_type": "code",
   "execution_count": 152,
   "metadata": {},
   "outputs": [],
   "source": [
    "degree_centrality = nx.degree_centrality(gr)\n",
    "degree_centrality = dict(sorted(degree_centrality.items(), key=lambda x: x[0]))"
   ]
  },
  {
   "cell_type": "markdown",
   "metadata": {},
   "source": [
    "#### Betweenness centrality"
   ]
  },
  {
   "cell_type": "code",
   "execution_count": 181,
   "metadata": {},
   "outputs": [],
   "source": [
    "betweenness_centrality = nx.betweenness_centrality(gr)\n",
    "betweenness_centrality = dict(sorted(betweenness_centrality.items(), key=lambda x: x[0]))"
   ]
  },
  {
   "cell_type": "markdown",
   "metadata": {},
   "source": [
    "#### Closeness centrality"
   ]
  },
  {
   "cell_type": "code",
   "execution_count": 183,
   "metadata": {},
   "outputs": [],
   "source": [
    "closeness_centrality = nx.closeness_centrality(gr)\n",
    "closeness_centrality = dict(sorted(closeness_centrality.items(), key=lambda x: x[0]))"
   ]
  },
  {
   "cell_type": "markdown",
   "metadata": {},
   "source": [
    "#### Eigenvector centrality"
   ]
  },
  {
   "cell_type": "code",
   "execution_count": 584,
   "metadata": {},
   "outputs": [],
   "source": [
    "eigenvector_centrality = nx.eigenvector_centrality(gr)\n",
    "eigenvector_centrality = dict(sorted(eigenvector_centrality.items(), key=lambda x: x[0]))"
   ]
  },
  {
   "cell_type": "markdown",
   "metadata": {},
   "source": [
    "#### Information centrality"
   ]
  },
  {
   "cell_type": "code",
   "execution_count": 603,
   "metadata": {},
   "outputs": [],
   "source": [
    "information_centrality = nx.current_flow_closeness_centrality(gr)\n",
    "information_centrality = dict(sorted(information_centrality.items(), key=lambda x: x[0]))"
   ]
  },
  {
   "cell_type": "markdown",
   "metadata": {},
   "source": [
    "#### Клики"
   ]
  },
  {
   "cell_type": "code",
   "execution_count": 12,
   "metadata": {},
   "outputs": [],
   "source": [
    "cliques = list(nx.find_cliques(gr))"
   ]
  },
  {
   "cell_type": "code",
   "execution_count": 13,
   "metadata": {},
   "outputs": [
    {
     "data": {
      "text/plain": [
       "[[0, 20480, 1538],\n",
       " [0, 20480, 9747, 569],\n",
       " [0, 20480, 27432],\n",
       " [0, 20480, 13628, 1378, 574],\n",
       " [0, 20480, 13628, 1768],\n",
       " [0, 20480, 13628, 2122],\n",
       " [0, 20480, 13628, 2898],\n",
       " [0, 20480, 13628, 569, 1309],\n",
       " [0, 20480, 13628, 2204],\n",
       " [0, 20480, 4031]]"
      ]
     },
     "execution_count": 13,
     "metadata": {},
     "output_type": "execute_result"
    }
   ],
   "source": [
    "cliques[:10]"
   ]
  },
  {
   "cell_type": "markdown",
   "metadata": {},
   "source": [
    "#### Количество клик, в которые входит узел + размер максимальной клики для каждого узла"
   ]
  },
  {
   "cell_type": "code",
   "execution_count": 14,
   "metadata": {},
   "outputs": [
    {
     "name": "stderr",
     "output_type": "stream",
     "text": [
      "100%|██████████| 1266891/1266891 [00:03<00:00, 326798.18it/s]\n"
     ]
    }
   ],
   "source": [
    "cnt_cliques = {}\n",
    "max_cliques = {}\n",
    "for cl in tqdm(cliques):\n",
    "    for n in cl:\n",
    "        len_cl = len(cl)\n",
    "        curr_cnt = cnt_cliques.get(n, 0)\n",
    "        curr_max = max_cliques.get(n, 0)\n",
    "        if len_cl > curr_max:\n",
    "            max_cliques[n] = len_cl\n",
    "        cnt_cliques[n] = curr_cnt + 1\n",
    "cnt_cliques = dict(sorted(cnt_cliques.items(), key=lambda x: x[0]))\n",
    "max_cliques = dict(sorted(max_cliques.items(), key=lambda x: x[0]))"
   ]
  },
  {
   "cell_type": "code",
   "execution_count": 15,
   "metadata": {},
   "outputs": [
    {
     "data": {
      "text/plain": [
       "(10000, 10000)"
      ]
     },
     "execution_count": 15,
     "metadata": {},
     "output_type": "execute_result"
    }
   ],
   "source": [
    "len(max_cliques), len(cnt_cliques)"
   ]
  },
  {
   "cell_type": "markdown",
   "metadata": {},
   "source": [
    "#### Мосты"
   ]
  },
  {
   "cell_type": "code",
   "execution_count": 17,
   "metadata": {},
   "outputs": [],
   "source": [
    "bridges = list(nx.bridges(gr))"
   ]
  },
  {
   "cell_type": "code",
   "execution_count": 18,
   "metadata": {},
   "outputs": [
    {
     "data": {
      "text/plain": [
       "[]"
      ]
     },
     "execution_count": 18,
     "metadata": {},
     "output_type": "execute_result"
    }
   ],
   "source": [
    "bridges"
   ]
  },
  {
   "cell_type": "markdown",
   "metadata": {},
   "source": [
    "В графе нет мостов"
   ]
  },
  {
   "cell_type": "markdown",
   "metadata": {},
   "source": [
    "#### Сообщества"
   ]
  },
  {
   "cell_type": "code",
   "execution_count": null,
   "metadata": {},
   "outputs": [],
   "source": [
    "community = list(nx.algorithms.community.girvan_newman(gr))"
   ]
  },
  {
   "cell_type": "markdown",
   "metadata": {},
   "source": [
    "Из-за размера графа и вычислительной сложности подсчёт сообществ займёт долгое время. Пока не будем использовать."
   ]
  },
  {
   "cell_type": "markdown",
   "metadata": {},
   "source": [
    "#### Компоненты связанности"
   ]
  },
  {
   "cell_type": "code",
   "execution_count": 21,
   "metadata": {},
   "outputs": [],
   "source": [
    "conn_components = list(nx.connected_components(gr))"
   ]
  },
  {
   "cell_type": "code",
   "execution_count": 23,
   "metadata": {},
   "outputs": [
    {
     "data": {
      "text/plain": [
       "1"
      ]
     },
     "execution_count": 23,
     "metadata": {},
     "output_type": "execute_result"
    }
   ],
   "source": [
    "len(conn_components)"
   ]
  },
  {
   "cell_type": "code",
   "execution_count": 24,
   "metadata": {},
   "outputs": [
    {
     "data": {
      "text/plain": [
       "10000"
      ]
     },
     "execution_count": 24,
     "metadata": {},
     "output_type": "execute_result"
    }
   ],
   "source": [
    "len(conn_components[0])"
   ]
  },
  {
   "cell_type": "markdown",
   "metadata": {},
   "source": [
    "В графе всего лишь один связанный компонент, куда входят все узлы"
   ]
  },
  {
   "cell_type": "markdown",
   "metadata": {},
   "source": [
    "#### Make dataset from relevant features"
   ]
  },
  {
   "cell_type": "code",
   "execution_count": null,
   "metadata": {},
   "outputs": [],
   "source": [
    "features = {\n",
    "                                                    'degree': degrees.values(),\n",
    "                                                    'clustering_coef': clustering_coefs.values(),\n",
    "                                                    'degree_centrality': degree_centrality.values(),\n",
    "                                                    'betweenness_centrality': betweenness_centrality.values(),\n",
    "                                                    'closeness_centrality': closeness_centrality.values(),\n",
    "                                                    'eigenvector_centrality': eigenvector_centrality.values(),\n",
    "                                                    'information_centrality': information_centrality.values(),\n",
    "                                                    'cnt_cliques': cnt_cliques.values(),\n",
    "                                                    'max_cliques': max_cliques.values(),\n",
    "                                                }\n",
    "features_full = {\n",
    "                                                    'degree': degrees,\n",
    "                                                    'clustering_coef': clustering_coefs,\n",
    "                                                    'degree_centrality': degree_centrality,\n",
    "                                                    'betweenness_centrality': betweenness_centrality,\n",
    "                                                    'closeness_centrality': closeness_centrality,\n",
    "                                                    'eigenvector_centrality': eigenvector_centrality,\n",
    "                                                    'information_centrality': information_centrality,\n",
    "                                                    'cnt_cliques': cnt_cliques,\n",
    "                                                    'max_cliques': max_cliques,\n",
    "                                                }"
   ]
  },
  {
   "cell_type": "code",
   "execution_count": null,
   "metadata": {},
   "outputs": [],
   "source": [
    "data = pd.DataFrame(index=degrees.keys(), data=features)"
   ]
  },
  {
   "cell_type": "markdown",
   "metadata": {},
   "source": [
    "#### Save dataset"
   ]
  },
  {
   "cell_type": "code",
   "execution_count": 778,
   "metadata": {},
   "outputs": [
    {
     "data": {
      "text/plain": [
       "['./data/extracted_features.pkl']"
      ]
     },
     "execution_count": 778,
     "metadata": {},
     "output_type": "execute_result"
    }
   ],
   "source": [
    "joblib.dump(features_full, './data/extracted_features.pkl')"
   ]
  },
  {
   "cell_type": "code",
   "execution_count": null,
   "metadata": {},
   "outputs": [],
   "source": [
    "data.to_csv('./data/data_prepared.csv', index=False)"
   ]
  },
  {
   "cell_type": "markdown",
   "metadata": {},
   "source": [
    "#### Load features"
   ]
  },
  {
   "cell_type": "code",
   "execution_count": 27,
   "metadata": {},
   "outputs": [],
   "source": [
    "data = pd.read_csv('./data/data_prepared.csv')"
   ]
  },
  {
   "cell_type": "code",
   "execution_count": 30,
   "metadata": {},
   "outputs": [],
   "source": [
    "extracted_features = joblib.load('./data/extracted_features.pkl')"
   ]
  },
  {
   "cell_type": "code",
   "execution_count": 734,
   "metadata": {},
   "outputs": [],
   "source": [
    "data = pd.DataFrame(index=extracted_features.get('degree').keys(), data={name: [v for v in dd.values()] for name, dd in extracted_features.items()})"
   ]
  },
  {
   "cell_type": "markdown",
   "metadata": {},
   "source": [
    "### Features analysis"
   ]
  },
  {
   "cell_type": "code",
   "execution_count": 735,
   "metadata": {},
   "outputs": [
    {
     "data": {
      "text/html": [
       "<div>\n",
       "<style scoped>\n",
       "    .dataframe tbody tr th:only-of-type {\n",
       "        vertical-align: middle;\n",
       "    }\n",
       "\n",
       "    .dataframe tbody tr th {\n",
       "        vertical-align: top;\n",
       "    }\n",
       "\n",
       "    .dataframe thead th {\n",
       "        text-align: right;\n",
       "    }\n",
       "</style>\n",
       "<table border=\"1\" class=\"dataframe\">\n",
       "  <thead>\n",
       "    <tr style=\"text-align: right;\">\n",
       "      <th></th>\n",
       "      <th>degree</th>\n",
       "      <th>clustering_coef</th>\n",
       "      <th>degree_centrality</th>\n",
       "      <th>betweenness_centrality</th>\n",
       "      <th>closeness_centrality</th>\n",
       "      <th>eigenvector_centrality</th>\n",
       "      <th>information_centrality</th>\n",
       "      <th>cnt_cliques</th>\n",
       "      <th>max_cliques</th>\n",
       "    </tr>\n",
       "  </thead>\n",
       "  <tbody>\n",
       "    <tr>\n",
       "      <th>0</th>\n",
       "      <td>1863</td>\n",
       "      <td>0.013900</td>\n",
       "      <td>0.186319</td>\n",
       "      <td>0.010784</td>\n",
       "      <td>0.551274</td>\n",
       "      <td>0.071758</td>\n",
       "      <td>0.007028</td>\n",
       "      <td>25362</td>\n",
       "      <td>8</td>\n",
       "    </tr>\n",
       "    <tr>\n",
       "      <th>1</th>\n",
       "      <td>804</td>\n",
       "      <td>0.036914</td>\n",
       "      <td>0.080408</td>\n",
       "      <td>0.002156</td>\n",
       "      <td>0.519078</td>\n",
       "      <td>0.038140</td>\n",
       "      <td>0.006692</td>\n",
       "      <td>14374</td>\n",
       "      <td>7</td>\n",
       "    </tr>\n",
       "    <tr>\n",
       "      <th>2</th>\n",
       "      <td>1709</td>\n",
       "      <td>0.014655</td>\n",
       "      <td>0.170917</td>\n",
       "      <td>0.007632</td>\n",
       "      <td>0.546244</td>\n",
       "      <td>0.069276</td>\n",
       "      <td>0.007003</td>\n",
       "      <td>25369</td>\n",
       "      <td>8</td>\n",
       "    </tr>\n",
       "    <tr>\n",
       "      <th>3</th>\n",
       "      <td>55</td>\n",
       "      <td>0.111785</td>\n",
       "      <td>0.005501</td>\n",
       "      <td>0.000014</td>\n",
       "      <td>0.440873</td>\n",
       "      <td>0.003467</td>\n",
       "      <td>0.003124</td>\n",
       "      <td>128</td>\n",
       "      <td>5</td>\n",
       "    </tr>\n",
       "    <tr>\n",
       "      <th>4</th>\n",
       "      <td>52</td>\n",
       "      <td>0.025641</td>\n",
       "      <td>0.005201</td>\n",
       "      <td>0.000009</td>\n",
       "      <td>0.394360</td>\n",
       "      <td>0.002144</td>\n",
       "      <td>0.003023</td>\n",
       "      <td>49</td>\n",
       "      <td>4</td>\n",
       "    </tr>\n",
       "    <tr>\n",
       "      <th>...</th>\n",
       "      <td>...</td>\n",
       "      <td>...</td>\n",
       "      <td>...</td>\n",
       "      <td>...</td>\n",
       "      <td>...</td>\n",
       "      <td>...</td>\n",
       "      <td>...</td>\n",
       "      <td>...</td>\n",
       "      <td>...</td>\n",
       "    </tr>\n",
       "    <tr>\n",
       "      <th>31175</th>\n",
       "      <td>42</td>\n",
       "      <td>0.011614</td>\n",
       "      <td>0.004200</td>\n",
       "      <td>0.000008</td>\n",
       "      <td>0.383559</td>\n",
       "      <td>0.001560</td>\n",
       "      <td>0.002654</td>\n",
       "      <td>41</td>\n",
       "      <td>3</td>\n",
       "    </tr>\n",
       "    <tr>\n",
       "      <th>31178</th>\n",
       "      <td>206</td>\n",
       "      <td>0.006583</td>\n",
       "      <td>0.020602</td>\n",
       "      <td>0.000150</td>\n",
       "      <td>0.432333</td>\n",
       "      <td>0.006553</td>\n",
       "      <td>0.005375</td>\n",
       "      <td>223</td>\n",
       "      <td>4</td>\n",
       "    </tr>\n",
       "    <tr>\n",
       "      <th>31179</th>\n",
       "      <td>47</td>\n",
       "      <td>0.031452</td>\n",
       "      <td>0.004700</td>\n",
       "      <td>0.000005</td>\n",
       "      <td>0.383397</td>\n",
       "      <td>0.002239</td>\n",
       "      <td>0.002841</td>\n",
       "      <td>48</td>\n",
       "      <td>4</td>\n",
       "    </tr>\n",
       "    <tr>\n",
       "      <th>31193</th>\n",
       "      <td>90</td>\n",
       "      <td>0.014232</td>\n",
       "      <td>0.009001</td>\n",
       "      <td>0.000021</td>\n",
       "      <td>0.403886</td>\n",
       "      <td>0.003852</td>\n",
       "      <td>0.004014</td>\n",
       "      <td>103</td>\n",
       "      <td>3</td>\n",
       "    </tr>\n",
       "    <tr>\n",
       "      <th>31204</th>\n",
       "      <td>85</td>\n",
       "      <td>0.005322</td>\n",
       "      <td>0.008501</td>\n",
       "      <td>0.000019</td>\n",
       "      <td>0.382722</td>\n",
       "      <td>0.002683</td>\n",
       "      <td>0.003908</td>\n",
       "      <td>78</td>\n",
       "      <td>4</td>\n",
       "    </tr>\n",
       "  </tbody>\n",
       "</table>\n",
       "<p>10000 rows × 9 columns</p>\n",
       "</div>"
      ],
      "text/plain": [
       "       degree  clustering_coef  degree_centrality  betweenness_centrality  \\\n",
       "0        1863         0.013900           0.186319                0.010784   \n",
       "1         804         0.036914           0.080408                0.002156   \n",
       "2        1709         0.014655           0.170917                0.007632   \n",
       "3          55         0.111785           0.005501                0.000014   \n",
       "4          52         0.025641           0.005201                0.000009   \n",
       "...       ...              ...                ...                     ...   \n",
       "31175      42         0.011614           0.004200                0.000008   \n",
       "31178     206         0.006583           0.020602                0.000150   \n",
       "31179      47         0.031452           0.004700                0.000005   \n",
       "31193      90         0.014232           0.009001                0.000021   \n",
       "31204      85         0.005322           0.008501                0.000019   \n",
       "\n",
       "       closeness_centrality  eigenvector_centrality  information_centrality  \\\n",
       "0                  0.551274                0.071758                0.007028   \n",
       "1                  0.519078                0.038140                0.006692   \n",
       "2                  0.546244                0.069276                0.007003   \n",
       "3                  0.440873                0.003467                0.003124   \n",
       "4                  0.394360                0.002144                0.003023   \n",
       "...                     ...                     ...                     ...   \n",
       "31175              0.383559                0.001560                0.002654   \n",
       "31178              0.432333                0.006553                0.005375   \n",
       "31179              0.383397                0.002239                0.002841   \n",
       "31193              0.403886                0.003852                0.004014   \n",
       "31204              0.382722                0.002683                0.003908   \n",
       "\n",
       "       cnt_cliques  max_cliques  \n",
       "0            25362            8  \n",
       "1            14374            7  \n",
       "2            25369            8  \n",
       "3              128            5  \n",
       "4               49            4  \n",
       "...            ...          ...  \n",
       "31175           41            3  \n",
       "31178          223            4  \n",
       "31179           48            4  \n",
       "31193          103            3  \n",
       "31204           78            4  \n",
       "\n",
       "[10000 rows x 9 columns]"
      ]
     },
     "execution_count": 735,
     "metadata": {},
     "output_type": "execute_result"
    }
   ],
   "source": [
    "data"
   ]
  },
  {
   "cell_type": "markdown",
   "metadata": {},
   "source": [
    "#### Корреляции"
   ]
  },
  {
   "cell_type": "markdown",
   "metadata": {},
   "source": [
    "Избавимся от скоррелированных фичей"
   ]
  },
  {
   "cell_type": "code",
   "execution_count": 736,
   "metadata": {},
   "outputs": [],
   "source": [
    "corr = data.corr()"
   ]
  },
  {
   "cell_type": "code",
   "execution_count": 737,
   "metadata": {},
   "outputs": [
    {
     "data": {
      "text/html": [
       "<style type=\"text/css\">\n",
       "#T_7fd36_row0_col0, #T_7fd36_row0_col2, #T_7fd36_row1_col1, #T_7fd36_row2_col0, #T_7fd36_row2_col2, #T_7fd36_row3_col3, #T_7fd36_row4_col4, #T_7fd36_row5_col5, #T_7fd36_row6_col6, #T_7fd36_row7_col7, #T_7fd36_row8_col8 {\n",
       "  background-color: #b40426;\n",
       "  color: #f1f1f1;\n",
       "}\n",
       "#T_7fd36_row0_col1, #T_7fd36_row1_col0, #T_7fd36_row1_col2, #T_7fd36_row1_col3, #T_7fd36_row1_col4, #T_7fd36_row1_col5, #T_7fd36_row1_col6, #T_7fd36_row1_col7, #T_7fd36_row2_col1, #T_7fd36_row3_col8 {\n",
       "  background-color: #3b4cc0;\n",
       "  color: #f1f1f1;\n",
       "}\n",
       "#T_7fd36_row0_col3, #T_7fd36_row2_col3 {\n",
       "  background-color: #da5a49;\n",
       "  color: #f1f1f1;\n",
       "}\n",
       "#T_7fd36_row0_col4, #T_7fd36_row2_col4 {\n",
       "  background-color: #b5cdfa;\n",
       "  color: #000000;\n",
       "}\n",
       "#T_7fd36_row0_col5, #T_7fd36_row2_col5 {\n",
       "  background-color: #d24b40;\n",
       "  color: #f1f1f1;\n",
       "}\n",
       "#T_7fd36_row0_col6, #T_7fd36_row2_col6 {\n",
       "  background-color: #f29274;\n",
       "  color: #f1f1f1;\n",
       "}\n",
       "#T_7fd36_row0_col7, #T_7fd36_row2_col7 {\n",
       "  background-color: #ef886b;\n",
       "  color: #f1f1f1;\n",
       "}\n",
       "#T_7fd36_row0_col8, #T_7fd36_row2_col8 {\n",
       "  background-color: #8db0fe;\n",
       "  color: #000000;\n",
       "}\n",
       "#T_7fd36_row1_col8 {\n",
       "  background-color: #7da0f9;\n",
       "  color: #f1f1f1;\n",
       "}\n",
       "#T_7fd36_row3_col0, #T_7fd36_row3_col2 {\n",
       "  background-color: #d85646;\n",
       "  color: #f1f1f1;\n",
       "}\n",
       "#T_7fd36_row3_col1 {\n",
       "  background-color: #4e68d8;\n",
       "  color: #f1f1f1;\n",
       "}\n",
       "#T_7fd36_row3_col4 {\n",
       "  background-color: #4b64d5;\n",
       "  color: #f1f1f1;\n",
       "}\n",
       "#T_7fd36_row3_col5 {\n",
       "  background-color: #f39778;\n",
       "  color: #000000;\n",
       "}\n",
       "#T_7fd36_row3_col6 {\n",
       "  background-color: #dddcdc;\n",
       "  color: #000000;\n",
       "}\n",
       "#T_7fd36_row3_col7 {\n",
       "  background-color: #e16751;\n",
       "  color: #f1f1f1;\n",
       "}\n",
       "#T_7fd36_row4_col0, #T_7fd36_row4_col2 {\n",
       "  background-color: #f6bda2;\n",
       "  color: #000000;\n",
       "}\n",
       "#T_7fd36_row4_col1 {\n",
       "  background-color: #cedaeb;\n",
       "  color: #000000;\n",
       "}\n",
       "#T_7fd36_row4_col3, #T_7fd36_row6_col8 {\n",
       "  background-color: #cdd9ec;\n",
       "  color: #000000;\n",
       "}\n",
       "#T_7fd36_row4_col5 {\n",
       "  background-color: #f59f80;\n",
       "  color: #000000;\n",
       "}\n",
       "#T_7fd36_row4_col6, #T_7fd36_row5_col6 {\n",
       "  background-color: #f08b6e;\n",
       "  color: #f1f1f1;\n",
       "}\n",
       "#T_7fd36_row4_col7 {\n",
       "  background-color: #c0d4f5;\n",
       "  color: #000000;\n",
       "}\n",
       "#T_7fd36_row4_col8, #T_7fd36_row7_col5 {\n",
       "  background-color: #f6a586;\n",
       "  color: #000000;\n",
       "}\n",
       "#T_7fd36_row5_col0, #T_7fd36_row5_col2 {\n",
       "  background-color: #cc403a;\n",
       "  color: #f1f1f1;\n",
       "}\n",
       "#T_7fd36_row5_col1 {\n",
       "  background-color: #81a4fb;\n",
       "  color: #f1f1f1;\n",
       "}\n",
       "#T_7fd36_row5_col3 {\n",
       "  background-color: #ee8669;\n",
       "  color: #f1f1f1;\n",
       "}\n",
       "#T_7fd36_row5_col4 {\n",
       "  background-color: #f5c4ac;\n",
       "  color: #000000;\n",
       "}\n",
       "#T_7fd36_row5_col7 {\n",
       "  background-color: #f4987a;\n",
       "  color: #000000;\n",
       "}\n",
       "#T_7fd36_row5_col8 {\n",
       "  background-color: #ebd3c6;\n",
       "  color: #000000;\n",
       "}\n",
       "#T_7fd36_row6_col0, #T_7fd36_row6_col2 {\n",
       "  background-color: #f29072;\n",
       "  color: #f1f1f1;\n",
       "}\n",
       "#T_7fd36_row6_col1 {\n",
       "  background-color: #3e51c5;\n",
       "  color: #f1f1f1;\n",
       "}\n",
       "#T_7fd36_row6_col3 {\n",
       "  background-color: #d6dce4;\n",
       "  color: #000000;\n",
       "}\n",
       "#T_7fd36_row6_col4 {\n",
       "  background-color: #f3c8b2;\n",
       "  color: #000000;\n",
       "}\n",
       "#T_7fd36_row6_col5 {\n",
       "  background-color: #f6a385;\n",
       "  color: #000000;\n",
       "}\n",
       "#T_7fd36_row6_col7 {\n",
       "  background-color: #c7d7f0;\n",
       "  color: #000000;\n",
       "}\n",
       "#T_7fd36_row7_col0, #T_7fd36_row7_col2 {\n",
       "  background-color: #eb7d62;\n",
       "  color: #f1f1f1;\n",
       "}\n",
       "#T_7fd36_row7_col1 {\n",
       "  background-color: #5f7fe8;\n",
       "  color: #f1f1f1;\n",
       "}\n",
       "#T_7fd36_row7_col3 {\n",
       "  background-color: #df634e;\n",
       "  color: #f1f1f1;\n",
       "}\n",
       "#T_7fd36_row7_col4 {\n",
       "  background-color: #465ecf;\n",
       "  color: #f1f1f1;\n",
       "}\n",
       "#T_7fd36_row7_col6 {\n",
       "  background-color: #d8dce2;\n",
       "  color: #000000;\n",
       "}\n",
       "#T_7fd36_row7_col8 {\n",
       "  background-color: #4a63d3;\n",
       "  color: #f1f1f1;\n",
       "}\n",
       "#T_7fd36_row8_col0, #T_7fd36_row8_col2 {\n",
       "  background-color: #eed0c0;\n",
       "  color: #000000;\n",
       "}\n",
       "#T_7fd36_row8_col1 {\n",
       "  background-color: #e9d5cb;\n",
       "  color: #000000;\n",
       "}\n",
       "#T_7fd36_row8_col3 {\n",
       "  background-color: #bed2f6;\n",
       "  color: #000000;\n",
       "}\n",
       "#T_7fd36_row8_col4 {\n",
       "  background-color: #f7a889;\n",
       "  color: #000000;\n",
       "}\n",
       "#T_7fd36_row8_col5, #T_7fd36_row8_col6 {\n",
       "  background-color: #f7b396;\n",
       "  color: #000000;\n",
       "}\n",
       "#T_7fd36_row8_col7 {\n",
       "  background-color: #bcd2f7;\n",
       "  color: #000000;\n",
       "}\n",
       "</style>\n",
       "<table id=\"T_7fd36\">\n",
       "  <thead>\n",
       "    <tr>\n",
       "      <th class=\"blank level0\" >&nbsp;</th>\n",
       "      <th id=\"T_7fd36_level0_col0\" class=\"col_heading level0 col0\" >degree</th>\n",
       "      <th id=\"T_7fd36_level0_col1\" class=\"col_heading level0 col1\" >clustering_coef</th>\n",
       "      <th id=\"T_7fd36_level0_col2\" class=\"col_heading level0 col2\" >degree_centrality</th>\n",
       "      <th id=\"T_7fd36_level0_col3\" class=\"col_heading level0 col3\" >betweenness_centrality</th>\n",
       "      <th id=\"T_7fd36_level0_col4\" class=\"col_heading level0 col4\" >closeness_centrality</th>\n",
       "      <th id=\"T_7fd36_level0_col5\" class=\"col_heading level0 col5\" >eigenvector_centrality</th>\n",
       "      <th id=\"T_7fd36_level0_col6\" class=\"col_heading level0 col6\" >information_centrality</th>\n",
       "      <th id=\"T_7fd36_level0_col7\" class=\"col_heading level0 col7\" >cnt_cliques</th>\n",
       "      <th id=\"T_7fd36_level0_col8\" class=\"col_heading level0 col8\" >max_cliques</th>\n",
       "    </tr>\n",
       "  </thead>\n",
       "  <tbody>\n",
       "    <tr>\n",
       "      <th id=\"T_7fd36_level0_row0\" class=\"row_heading level0 row0\" >degree</th>\n",
       "      <td id=\"T_7fd36_row0_col0\" class=\"data row0 col0\" >1.000000</td>\n",
       "      <td id=\"T_7fd36_row0_col1\" class=\"data row0 col1\" >-0.212480</td>\n",
       "      <td id=\"T_7fd36_row0_col2\" class=\"data row0 col2\" >1.000000</td>\n",
       "      <td id=\"T_7fd36_row0_col3\" class=\"data row0 col3\" >0.870482</td>\n",
       "      <td id=\"T_7fd36_row0_col4\" class=\"data row0 col4\" >0.576371</td>\n",
       "      <td id=\"T_7fd36_row0_col5\" class=\"data row0 col5\" >0.917283</td>\n",
       "      <td id=\"T_7fd36_row0_col6\" class=\"data row0 col6\" >0.722412</td>\n",
       "      <td id=\"T_7fd36_row0_col7\" class=\"data row0 col7\" >0.776371</td>\n",
       "      <td id=\"T_7fd36_row0_col8\" class=\"data row0 col8\" >0.485445</td>\n",
       "    </tr>\n",
       "    <tr>\n",
       "      <th id=\"T_7fd36_level0_row1\" class=\"row_heading level0 row1\" >clustering_coef</th>\n",
       "      <td id=\"T_7fd36_row1_col0\" class=\"data row1 col0\" >-0.212480</td>\n",
       "      <td id=\"T_7fd36_row1_col1\" class=\"data row1 col1\" >1.000000</td>\n",
       "      <td id=\"T_7fd36_row1_col2\" class=\"data row1 col2\" >-0.212480</td>\n",
       "      <td id=\"T_7fd36_row1_col3\" class=\"data row1 col3\" >-0.134779</td>\n",
       "      <td id=\"T_7fd36_row1_col4\" class=\"data row1 col4\" >0.330783</td>\n",
       "      <td id=\"T_7fd36_row1_col5\" class=\"data row1 col5\" >0.051441</td>\n",
       "      <td id=\"T_7fd36_row1_col6\" class=\"data row1 col6\" >-0.197566</td>\n",
       "      <td id=\"T_7fd36_row1_col7\" class=\"data row1 col7\" >-0.069533</td>\n",
       "      <td id=\"T_7fd36_row1_col8\" class=\"data row1 col8\" >0.452767</td>\n",
       "    </tr>\n",
       "    <tr>\n",
       "      <th id=\"T_7fd36_level0_row2\" class=\"row_heading level0 row2\" >degree_centrality</th>\n",
       "      <td id=\"T_7fd36_row2_col0\" class=\"data row2 col0\" >1.000000</td>\n",
       "      <td id=\"T_7fd36_row2_col1\" class=\"data row2 col1\" >-0.212480</td>\n",
       "      <td id=\"T_7fd36_row2_col2\" class=\"data row2 col2\" >1.000000</td>\n",
       "      <td id=\"T_7fd36_row2_col3\" class=\"data row2 col3\" >0.870482</td>\n",
       "      <td id=\"T_7fd36_row2_col4\" class=\"data row2 col4\" >0.576371</td>\n",
       "      <td id=\"T_7fd36_row2_col5\" class=\"data row2 col5\" >0.917283</td>\n",
       "      <td id=\"T_7fd36_row2_col6\" class=\"data row2 col6\" >0.722412</td>\n",
       "      <td id=\"T_7fd36_row2_col7\" class=\"data row2 col7\" >0.776371</td>\n",
       "      <td id=\"T_7fd36_row2_col8\" class=\"data row2 col8\" >0.485445</td>\n",
       "    </tr>\n",
       "    <tr>\n",
       "      <th id=\"T_7fd36_level0_row3\" class=\"row_heading level0 row3\" >betweenness_centrality</th>\n",
       "      <td id=\"T_7fd36_row3_col0\" class=\"data row3 col0\" >0.870482</td>\n",
       "      <td id=\"T_7fd36_row3_col1\" class=\"data row3 col1\" >-0.134779</td>\n",
       "      <td id=\"T_7fd36_row3_col2\" class=\"data row3 col2\" >0.870482</td>\n",
       "      <td id=\"T_7fd36_row3_col3\" class=\"data row3 col3\" >1.000000</td>\n",
       "      <td id=\"T_7fd36_row3_col4\" class=\"data row3 col4\" >0.368194</td>\n",
       "      <td id=\"T_7fd36_row3_col5\" class=\"data row3 col5\" >0.768685</td>\n",
       "      <td id=\"T_7fd36_row3_col6\" class=\"data row3 col6\" >0.404449</td>\n",
       "      <td id=\"T_7fd36_row3_col7\" class=\"data row3 col7\" >0.852784</td>\n",
       "      <td id=\"T_7fd36_row3_col8\" class=\"data row3 col8\" >0.312556</td>\n",
       "    </tr>\n",
       "    <tr>\n",
       "      <th id=\"T_7fd36_level0_row4\" class=\"row_heading level0 row4\" >closeness_centrality</th>\n",
       "      <td id=\"T_7fd36_row4_col0\" class=\"data row4 col0\" >0.576371</td>\n",
       "      <td id=\"T_7fd36_row4_col1\" class=\"data row4 col1\" >0.330783</td>\n",
       "      <td id=\"T_7fd36_row4_col2\" class=\"data row4 col2\" >0.576371</td>\n",
       "      <td id=\"T_7fd36_row4_col3\" class=\"data row4 col3\" >0.368194</td>\n",
       "      <td id=\"T_7fd36_row4_col4\" class=\"data row4 col4\" >1.000000</td>\n",
       "      <td id=\"T_7fd36_row4_col5\" class=\"data row4 col5\" >0.750191</td>\n",
       "      <td id=\"T_7fd36_row4_col6\" class=\"data row4 col6\" >0.741163</td>\n",
       "      <td id=\"T_7fd36_row4_col7\" class=\"data row4 col7\" >0.359052</td>\n",
       "      <td id=\"T_7fd36_row4_col8\" class=\"data row4 col8\" >0.808274</td>\n",
       "    </tr>\n",
       "    <tr>\n",
       "      <th id=\"T_7fd36_level0_row5\" class=\"row_heading level0 row5\" >eigenvector_centrality</th>\n",
       "      <td id=\"T_7fd36_row5_col0\" class=\"data row5 col0\" >0.917283</td>\n",
       "      <td id=\"T_7fd36_row5_col1\" class=\"data row5 col1\" >0.051441</td>\n",
       "      <td id=\"T_7fd36_row5_col2\" class=\"data row5 col2\" >0.917283</td>\n",
       "      <td id=\"T_7fd36_row5_col3\" class=\"data row5 col3\" >0.768685</td>\n",
       "      <td id=\"T_7fd36_row5_col4\" class=\"data row5 col4\" >0.750191</td>\n",
       "      <td id=\"T_7fd36_row5_col5\" class=\"data row5 col5\" >1.000000</td>\n",
       "      <td id=\"T_7fd36_row5_col6\" class=\"data row5 col6\" >0.739417</td>\n",
       "      <td id=\"T_7fd36_row5_col7\" class=\"data row5 col7\" >0.735649</td>\n",
       "      <td id=\"T_7fd36_row5_col8\" class=\"data row5 col8\" >0.698020</td>\n",
       "    </tr>\n",
       "    <tr>\n",
       "      <th id=\"T_7fd36_level0_row6\" class=\"row_heading level0 row6\" >information_centrality</th>\n",
       "      <td id=\"T_7fd36_row6_col0\" class=\"data row6 col0\" >0.722412</td>\n",
       "      <td id=\"T_7fd36_row6_col1\" class=\"data row6 col1\" >-0.197566</td>\n",
       "      <td id=\"T_7fd36_row6_col2\" class=\"data row6 col2\" >0.722412</td>\n",
       "      <td id=\"T_7fd36_row6_col3\" class=\"data row6 col3\" >0.404449</td>\n",
       "      <td id=\"T_7fd36_row6_col4\" class=\"data row6 col4\" >0.741163</td>\n",
       "      <td id=\"T_7fd36_row6_col5\" class=\"data row6 col5\" >0.739417</td>\n",
       "      <td id=\"T_7fd36_row6_col6\" class=\"data row6 col6\" >1.000000</td>\n",
       "      <td id=\"T_7fd36_row6_col7\" class=\"data row6 col7\" >0.381910</td>\n",
       "      <td id=\"T_7fd36_row6_col8\" class=\"data row6 col8\" >0.616684</td>\n",
       "    </tr>\n",
       "    <tr>\n",
       "      <th id=\"T_7fd36_level0_row7\" class=\"row_heading level0 row7\" >cnt_cliques</th>\n",
       "      <td id=\"T_7fd36_row7_col0\" class=\"data row7 col0\" >0.776371</td>\n",
       "      <td id=\"T_7fd36_row7_col1\" class=\"data row7 col1\" >-0.069533</td>\n",
       "      <td id=\"T_7fd36_row7_col2\" class=\"data row7 col2\" >0.776371</td>\n",
       "      <td id=\"T_7fd36_row7_col3\" class=\"data row7 col3\" >0.852784</td>\n",
       "      <td id=\"T_7fd36_row7_col4\" class=\"data row7 col4\" >0.359052</td>\n",
       "      <td id=\"T_7fd36_row7_col5\" class=\"data row7 col5\" >0.735649</td>\n",
       "      <td id=\"T_7fd36_row7_col6\" class=\"data row7 col6\" >0.381910</td>\n",
       "      <td id=\"T_7fd36_row7_col7\" class=\"data row7 col7\" >1.000000</td>\n",
       "      <td id=\"T_7fd36_row7_col8\" class=\"data row7 col8\" >0.348171</td>\n",
       "    </tr>\n",
       "    <tr>\n",
       "      <th id=\"T_7fd36_level0_row8\" class=\"row_heading level0 row8\" >max_cliques</th>\n",
       "      <td id=\"T_7fd36_row8_col0\" class=\"data row8 col0\" >0.485445</td>\n",
       "      <td id=\"T_7fd36_row8_col1\" class=\"data row8 col1\" >0.452767</td>\n",
       "      <td id=\"T_7fd36_row8_col2\" class=\"data row8 col2\" >0.485445</td>\n",
       "      <td id=\"T_7fd36_row8_col3\" class=\"data row8 col3\" >0.312556</td>\n",
       "      <td id=\"T_7fd36_row8_col4\" class=\"data row8 col4\" >0.808274</td>\n",
       "      <td id=\"T_7fd36_row8_col5\" class=\"data row8 col5\" >0.698020</td>\n",
       "      <td id=\"T_7fd36_row8_col6\" class=\"data row8 col6\" >0.616684</td>\n",
       "      <td id=\"T_7fd36_row8_col7\" class=\"data row8 col7\" >0.348171</td>\n",
       "      <td id=\"T_7fd36_row8_col8\" class=\"data row8 col8\" >1.000000</td>\n",
       "    </tr>\n",
       "  </tbody>\n",
       "</table>\n"
      ],
      "text/plain": [
       "<pandas.io.formats.style.Styler at 0x26e45cab740>"
      ]
     },
     "execution_count": 737,
     "metadata": {},
     "output_type": "execute_result"
    }
   ],
   "source": [
    "corr.style.background_gradient(cmap='coolwarm')"
   ]
  },
  {
   "cell_type": "markdown",
   "metadata": {},
   "source": [
    "Уберём колонки, для которых коэффициенты корреляции выше порога"
   ]
  },
  {
   "cell_type": "code",
   "execution_count": 738,
   "metadata": {},
   "outputs": [],
   "source": [
    "THRESH_CORR = 0.95"
   ]
  },
  {
   "cell_type": "code",
   "execution_count": 739,
   "metadata": {},
   "outputs": [],
   "source": [
    "corr_upper = np.triu(corr.to_numpy()) - np.eye(corr.shape[1])"
   ]
  },
  {
   "cell_type": "code",
   "execution_count": 740,
   "metadata": {},
   "outputs": [],
   "source": [
    "cols_0 = np.unique(np.argwhere(corr_upper >= THRESH_CORR)[:,0])\n",
    "cols_1 = np.unique(np.argwhere(corr_upper >= THRESH_CORR)[:,1])\n",
    "ind_col_corr = cols_0 if len(cols_0) <= len(cols_1) else cols_1"
   ]
  },
  {
   "cell_type": "code",
   "execution_count": 741,
   "metadata": {},
   "outputs": [
    {
     "data": {
      "text/plain": [
       "array([0], dtype=int64)"
      ]
     },
     "execution_count": 741,
     "metadata": {},
     "output_type": "execute_result"
    }
   ],
   "source": [
    "ind_col_corr"
   ]
  },
  {
   "cell_type": "markdown",
   "metadata": {},
   "source": [
    "Очевидно, что degree и degree_centrality, по сути, являются одной и той же характеристикой, поэтому можно удалить одну из них"
   ]
  },
  {
   "cell_type": "code",
   "execution_count": 742,
   "metadata": {},
   "outputs": [],
   "source": [
    "cols_corr = data.iloc[:, ind_col_corr].columns"
   ]
  },
  {
   "cell_type": "code",
   "execution_count": 743,
   "metadata": {},
   "outputs": [
    {
     "data": {
      "text/plain": [
       "Index(['degree'], dtype='object')"
      ]
     },
     "execution_count": 743,
     "metadata": {},
     "output_type": "execute_result"
    }
   ],
   "source": [
    "cols_corr"
   ]
  },
  {
   "cell_type": "code",
   "execution_count": 744,
   "metadata": {},
   "outputs": [],
   "source": [
    "data = data.drop(columns=cols_corr)"
   ]
  },
  {
   "cell_type": "markdown",
   "metadata": {},
   "source": [
    "#### Train/test split"
   ]
  },
  {
   "cell_type": "code",
   "execution_count": 745,
   "metadata": {},
   "outputs": [],
   "source": [
    "X_train = data[data.index.isin(train.node)].sort_index()\n",
    "y_train = train.sort_values('node').set_index('node').target\n",
    "X_test = data[data.index.isin(test.node)]\n",
    "y_test = test.sort_values('node').set_index('node').target"
   ]
  },
  {
   "cell_type": "code",
   "execution_count": 746,
   "metadata": {},
   "outputs": [
    {
     "data": {
      "text/html": [
       "<div>\n",
       "<style scoped>\n",
       "    .dataframe tbody tr th:only-of-type {\n",
       "        vertical-align: middle;\n",
       "    }\n",
       "\n",
       "    .dataframe tbody tr th {\n",
       "        vertical-align: top;\n",
       "    }\n",
       "\n",
       "    .dataframe thead th {\n",
       "        text-align: right;\n",
       "    }\n",
       "</style>\n",
       "<table border=\"1\" class=\"dataframe\">\n",
       "  <thead>\n",
       "    <tr style=\"text-align: right;\">\n",
       "      <th></th>\n",
       "      <th>clustering_coef</th>\n",
       "      <th>degree_centrality</th>\n",
       "      <th>betweenness_centrality</th>\n",
       "      <th>closeness_centrality</th>\n",
       "      <th>eigenvector_centrality</th>\n",
       "      <th>information_centrality</th>\n",
       "      <th>cnt_cliques</th>\n",
       "      <th>max_cliques</th>\n",
       "    </tr>\n",
       "  </thead>\n",
       "  <tbody>\n",
       "    <tr>\n",
       "      <th>0</th>\n",
       "      <td>0.013900</td>\n",
       "      <td>0.186319</td>\n",
       "      <td>0.010784</td>\n",
       "      <td>0.551274</td>\n",
       "      <td>0.071758</td>\n",
       "      <td>0.007028</td>\n",
       "      <td>25362</td>\n",
       "      <td>8</td>\n",
       "    </tr>\n",
       "    <tr>\n",
       "      <th>1</th>\n",
       "      <td>0.036914</td>\n",
       "      <td>0.080408</td>\n",
       "      <td>0.002156</td>\n",
       "      <td>0.519078</td>\n",
       "      <td>0.038140</td>\n",
       "      <td>0.006692</td>\n",
       "      <td>14374</td>\n",
       "      <td>7</td>\n",
       "    </tr>\n",
       "    <tr>\n",
       "      <th>2</th>\n",
       "      <td>0.014655</td>\n",
       "      <td>0.170917</td>\n",
       "      <td>0.007632</td>\n",
       "      <td>0.546244</td>\n",
       "      <td>0.069276</td>\n",
       "      <td>0.007003</td>\n",
       "      <td>25369</td>\n",
       "      <td>8</td>\n",
       "    </tr>\n",
       "    <tr>\n",
       "      <th>3</th>\n",
       "      <td>0.111785</td>\n",
       "      <td>0.005501</td>\n",
       "      <td>0.000014</td>\n",
       "      <td>0.440873</td>\n",
       "      <td>0.003467</td>\n",
       "      <td>0.003124</td>\n",
       "      <td>128</td>\n",
       "      <td>5</td>\n",
       "    </tr>\n",
       "    <tr>\n",
       "      <th>4</th>\n",
       "      <td>0.025641</td>\n",
       "      <td>0.005201</td>\n",
       "      <td>0.000009</td>\n",
       "      <td>0.394360</td>\n",
       "      <td>0.002144</td>\n",
       "      <td>0.003023</td>\n",
       "      <td>49</td>\n",
       "      <td>4</td>\n",
       "    </tr>\n",
       "    <tr>\n",
       "      <th>...</th>\n",
       "      <td>...</td>\n",
       "      <td>...</td>\n",
       "      <td>...</td>\n",
       "      <td>...</td>\n",
       "      <td>...</td>\n",
       "      <td>...</td>\n",
       "      <td>...</td>\n",
       "      <td>...</td>\n",
       "    </tr>\n",
       "    <tr>\n",
       "      <th>31175</th>\n",
       "      <td>0.011614</td>\n",
       "      <td>0.004200</td>\n",
       "      <td>0.000008</td>\n",
       "      <td>0.383559</td>\n",
       "      <td>0.001560</td>\n",
       "      <td>0.002654</td>\n",
       "      <td>41</td>\n",
       "      <td>3</td>\n",
       "    </tr>\n",
       "    <tr>\n",
       "      <th>31178</th>\n",
       "      <td>0.006583</td>\n",
       "      <td>0.020602</td>\n",
       "      <td>0.000150</td>\n",
       "      <td>0.432333</td>\n",
       "      <td>0.006553</td>\n",
       "      <td>0.005375</td>\n",
       "      <td>223</td>\n",
       "      <td>4</td>\n",
       "    </tr>\n",
       "    <tr>\n",
       "      <th>31179</th>\n",
       "      <td>0.031452</td>\n",
       "      <td>0.004700</td>\n",
       "      <td>0.000005</td>\n",
       "      <td>0.383397</td>\n",
       "      <td>0.002239</td>\n",
       "      <td>0.002841</td>\n",
       "      <td>48</td>\n",
       "      <td>4</td>\n",
       "    </tr>\n",
       "    <tr>\n",
       "      <th>31193</th>\n",
       "      <td>0.014232</td>\n",
       "      <td>0.009001</td>\n",
       "      <td>0.000021</td>\n",
       "      <td>0.403886</td>\n",
       "      <td>0.003852</td>\n",
       "      <td>0.004014</td>\n",
       "      <td>103</td>\n",
       "      <td>3</td>\n",
       "    </tr>\n",
       "    <tr>\n",
       "      <th>31204</th>\n",
       "      <td>0.005322</td>\n",
       "      <td>0.008501</td>\n",
       "      <td>0.000019</td>\n",
       "      <td>0.382722</td>\n",
       "      <td>0.002683</td>\n",
       "      <td>0.003908</td>\n",
       "      <td>78</td>\n",
       "      <td>4</td>\n",
       "    </tr>\n",
       "  </tbody>\n",
       "</table>\n",
       "<p>8000 rows × 8 columns</p>\n",
       "</div>"
      ],
      "text/plain": [
       "       clustering_coef  degree_centrality  betweenness_centrality  \\\n",
       "0             0.013900           0.186319                0.010784   \n",
       "1             0.036914           0.080408                0.002156   \n",
       "2             0.014655           0.170917                0.007632   \n",
       "3             0.111785           0.005501                0.000014   \n",
       "4             0.025641           0.005201                0.000009   \n",
       "...                ...                ...                     ...   \n",
       "31175         0.011614           0.004200                0.000008   \n",
       "31178         0.006583           0.020602                0.000150   \n",
       "31179         0.031452           0.004700                0.000005   \n",
       "31193         0.014232           0.009001                0.000021   \n",
       "31204         0.005322           0.008501                0.000019   \n",
       "\n",
       "       closeness_centrality  eigenvector_centrality  information_centrality  \\\n",
       "0                  0.551274                0.071758                0.007028   \n",
       "1                  0.519078                0.038140                0.006692   \n",
       "2                  0.546244                0.069276                0.007003   \n",
       "3                  0.440873                0.003467                0.003124   \n",
       "4                  0.394360                0.002144                0.003023   \n",
       "...                     ...                     ...                     ...   \n",
       "31175              0.383559                0.001560                0.002654   \n",
       "31178              0.432333                0.006553                0.005375   \n",
       "31179              0.383397                0.002239                0.002841   \n",
       "31193              0.403886                0.003852                0.004014   \n",
       "31204              0.382722                0.002683                0.003908   \n",
       "\n",
       "       cnt_cliques  max_cliques  \n",
       "0            25362            8  \n",
       "1            14374            7  \n",
       "2            25369            8  \n",
       "3              128            5  \n",
       "4               49            4  \n",
       "...            ...          ...  \n",
       "31175           41            3  \n",
       "31178          223            4  \n",
       "31179           48            4  \n",
       "31193          103            3  \n",
       "31204           78            4  \n",
       "\n",
       "[8000 rows x 8 columns]"
      ]
     },
     "execution_count": 746,
     "metadata": {},
     "output_type": "execute_result"
    }
   ],
   "source": [
    "X_train"
   ]
  },
  {
   "cell_type": "markdown",
   "metadata": {},
   "source": [
    "#### Outliers"
   ]
  },
  {
   "cell_type": "markdown",
   "metadata": {},
   "source": [
    "Можно попробовать избавиться от выбросов. Однако, в данной задаче это ощутимо уменьшает тренировочный датасет. Поэтому лучше не выкидывать выбросы, а использовать масштабирование фичей с помощью StandardScaler или MinMaxScaler"
   ]
  },
  {
   "cell_type": "code",
   "execution_count": 747,
   "metadata": {},
   "outputs": [
    {
     "data": {
      "image/png": "[encoded data removed]",
      "text/plain": [
       "<Figure size 640x480 with 1 Axes>"
      ]
     },
     "metadata": {},
     "output_type": "display_data"
    },
    {
     "data": {
      "image/png": "[encoded data removed]",
      "text/plain": [
       "<Figure size 640x480 with 1 Axes>"
      ]
     },
     "metadata": {},
     "output_type": "display_data"
    },
    {
     "data": {
      "image/png": "[encoded data removed]",
      "text/plain": [
       "<Figure size 640x480 with 1 Axes>"
      ]
     },
     "metadata": {},
     "output_type": "display_data"
    },
    {
     "data": {
      "image/png": "[encoded data removed]",
      "text/plain": [
       "<Figure size 640x480 with 1 Axes>"
      ]
     },
     "metadata": {},
     "output_type": "display_data"
    },
    {
     "data": {
      "image/png": "[encoded data removed]",
      "text/plain": [
       "<Figure size 640x480 with 1 Axes>"
      ]
     },
     "metadata": {},
     "output_type": "display_data"
    },
    {
     "data": {
      "image/png": "[encoded data removed]",
      "text/plain": [
       "<Figure size 640x480 with 1 Axes>"
      ]
     },
     "metadata": {},
     "output_type": "display_data"
    },
    {
     "data": {
      "image/png": "[encoded data removed]",
      "text/plain": [
       "<Figure size 640x480 with 1 Axes>"
      ]
     },
     "metadata": {},
     "output_type": "display_data"
    },
    {
     "data": {
      "image/png": "[encoded data removed]",
      "text/plain": [
       "<Figure size 640x480 with 1 Axes>"
      ]
     },
     "metadata": {},
     "output_type": "display_data"
    }
   ],
   "source": [
    "for col in X_train.columns:\n",
    "    sns.boxplot(X_train, x=col)\n",
    "    plt.show();"
   ]
  },
  {
   "cell_type": "code",
   "execution_count": 315,
   "metadata": {},
   "outputs": [],
   "source": [
    "def filter_outliers(X, y, pr_l=0.25, pr_u=0.75):\n",
    "    for col in X.columns:\n",
    "        q_l = X_train[col].quantile(q=pr_l)\n",
    "        q_u = X_train[col].quantile(q=pr_u)\n",
    "        X = X.query(f'@q_l <= {col} <= @q_u')\n",
    "    return X, y[X.index]"
   ]
  },
  {
   "cell_type": "code",
   "execution_count": 564,
   "metadata": {},
   "outputs": [],
   "source": [
    "X_train, y_train = filter_outliers(X_train, y_train, pr_l=0, pr_u=0.99)"
   ]
  },
  {
   "cell_type": "code",
   "execution_count": 565,
   "metadata": {},
   "outputs": [
    {
     "data": {
      "text/plain": [
       "(7802, 8)"
      ]
     },
     "execution_count": 565,
     "metadata": {},
     "output_type": "execute_result"
    }
   ],
   "source": [
    "X_train.shape"
   ]
  },
  {
   "cell_type": "markdown",
   "metadata": {},
   "source": [
    "#### Train"
   ]
  },
  {
   "cell_type": "markdown",
   "metadata": {},
   "source": [
    "Рассмотрим несколько различных алгоритмов:   \n",
    "* линейная регрессия\n",
    "* elastic net (линейная регрессия+L1+L2)\n",
    "* случайный лес\n",
    "* бустинг на деревьях (catboost)\n",
    "* SVR (метод опорных векторов для регрессии)"
   ]
  },
  {
   "cell_type": "code",
   "execution_count": 748,
   "metadata": {},
   "outputs": [],
   "source": [
    "bin_d = KBinsDiscretizer(n_bins=100, encode='ordinal', strategy='uniform')\n",
    "\n",
    "lr = LinearRegression(\n",
    "                        fit_intercept=True,\n",
    "                        )\n",
    "el_n = ElasticNet(\n",
    "                    alpha=0.2,\n",
    "                    l1_ratio=0.3,\n",
    "                    max_iter=100\n",
    ")\n",
    "\n",
    "rf = RandomForestRegressor(\n",
    "    n_estimators=100,\n",
    "    max_depth=8,\n",
    "    # max_features=2,\n",
    "    # min_samples_split=2,\n",
    "    # min_samples_leaf=4,\n",
    "    random_state=42,\n",
    ")\n",
    "\n",
    "svr = SVR()\n",
    "\n",
    "cb = catboost.CatBoostRegressor(\n",
    "                                    iterations=400,\n",
    "                                    objective='RMSE',\n",
    "                                    max_depth=6,\n",
    "                                    colsample_bylevel=0.3,\n",
    "                                    random_strength=2,\n",
    "                                    # l2_leaf_reg=2,\n",
    "                                    verbose=False,\n",
    "                                    )\n",
    "\n",
    "models_items = [\n",
    "                            ('linear regression', lr),\n",
    "                            ('elastic net', el_n),\n",
    "                            ('random forest', rf),\n",
    "                            ('catboost', cb),\n",
    "                            ('SVR', svr),\n",
    "]"
   ]
  },
  {
   "cell_type": "code",
   "execution_count": 749,
   "metadata": {},
   "outputs": [],
   "source": [
    "def train_model(X, y, model, scaler=None):\n",
    "    if scaler:\n",
    "        pipeline = [('scaler', scaler)]\n",
    "    else:\n",
    "        pipeline = []\n",
    "    pipeline.append(model)\n",
    "    pipeline = Pipeline(pipeline)\n",
    "    pipeline.fit(X, y)\n",
    "    return pipeline\n",
    "\n",
    "def train_all_models(X, y, models_items, scaler=StandardScaler()):\n",
    "    fit_models = {}\n",
    "    for name, model in models_items:\n",
    "        if name in ['linear regression', 'elastic net', 'SVR']:\n",
    "            model = train_model(X, y, (name, model), scaler=scaler)\n",
    "        else:\n",
    "            model = train_model(X, y, (name, model), scaler=None)\n",
    "        fit_models[name] = model\n",
    "    return fit_models\n",
    "\n",
    "def evaluate(model, X, y_true, model_type='sklearn'):\n",
    "    if model_type == 'sklearn': \n",
    "        y_pred = model.predict(X)\n",
    "    else:\n",
    "        y_pred = model.eval()(X).detach().numpy()\n",
    "    mae = mean_absolute_error(y_true, y_pred)\n",
    "    mse = mean_squared_error(y_true, y_pred)\n",
    "    rmse = root_mean_squared_error(y_true, y_pred)\n",
    "    r2 = r2_score(y_true, y_pred)\n",
    "    return {\n",
    "        \"MAE\": round(mae, 3),\n",
    "        \"MSE\": round(mse, 3),\n",
    "        \"RMSE\": round(rmse, 3),\n",
    "        \"R2\": round(r2, 3),\n",
    "    }\n",
    "\n",
    "def evaluate_all(models, X, y_true, model_type='sklearn'):\n",
    "    metrics = {}\n",
    "    for name, model in models.items():\n",
    "        metrics[name] = evaluate(model, X, y_true, model_type)\n",
    "    return metrics"
   ]
  },
  {
   "cell_type": "code",
   "execution_count": 750,
   "metadata": {},
   "outputs": [],
   "source": [
    "fit_models = train_all_models(X_train, y_train, models_items, scaler=StandardScaler())"
   ]
  },
  {
   "cell_type": "markdown",
   "metadata": {},
   "source": [
    "#### Metrics train"
   ]
  },
  {
   "cell_type": "code",
   "execution_count": 751,
   "metadata": {},
   "outputs": [],
   "source": [
    "metrics_train = pd.DataFrame(evaluate_all(fit_models, X_train, y_train))"
   ]
  },
  {
   "cell_type": "code",
   "execution_count": 752,
   "metadata": {},
   "outputs": [
    {
     "data": {
      "text/html": [
       "<div>\n",
       "<style scoped>\n",
       "    .dataframe tbody tr th:only-of-type {\n",
       "        vertical-align: middle;\n",
       "    }\n",
       "\n",
       "    .dataframe tbody tr th {\n",
       "        vertical-align: top;\n",
       "    }\n",
       "\n",
       "    .dataframe thead th {\n",
       "        text-align: right;\n",
       "    }\n",
       "</style>\n",
       "<table border=\"1\" class=\"dataframe\">\n",
       "  <thead>\n",
       "    <tr style=\"text-align: right;\">\n",
       "      <th></th>\n",
       "      <th>linear regression</th>\n",
       "      <th>elastic net</th>\n",
       "      <th>random forest</th>\n",
       "      <th>catboost</th>\n",
       "      <th>SVR</th>\n",
       "    </tr>\n",
       "  </thead>\n",
       "  <tbody>\n",
       "    <tr>\n",
       "      <th>MAE</th>\n",
       "      <td>0.054</td>\n",
       "      <td>0.087</td>\n",
       "      <td>0.041</td>\n",
       "      <td>0.043</td>\n",
       "      <td>0.058</td>\n",
       "    </tr>\n",
       "    <tr>\n",
       "      <th>MSE</th>\n",
       "      <td>0.008</td>\n",
       "      <td>0.025</td>\n",
       "      <td>0.003</td>\n",
       "      <td>0.004</td>\n",
       "      <td>0.033</td>\n",
       "    </tr>\n",
       "    <tr>\n",
       "      <th>RMSE</th>\n",
       "      <td>0.092</td>\n",
       "      <td>0.157</td>\n",
       "      <td>0.058</td>\n",
       "      <td>0.062</td>\n",
       "      <td>0.183</td>\n",
       "    </tr>\n",
       "    <tr>\n",
       "      <th>R2</th>\n",
       "      <td>0.981</td>\n",
       "      <td>0.946</td>\n",
       "      <td>0.993</td>\n",
       "      <td>0.992</td>\n",
       "      <td>0.926</td>\n",
       "    </tr>\n",
       "  </tbody>\n",
       "</table>\n",
       "</div>"
      ],
      "text/plain": [
       "      linear regression  elastic net  random forest  catboost    SVR\n",
       "MAE               0.054        0.087          0.041     0.043  0.058\n",
       "MSE               0.008        0.025          0.003     0.004  0.033\n",
       "RMSE              0.092        0.157          0.058     0.062  0.183\n",
       "R2                0.981        0.946          0.993     0.992  0.926"
      ]
     },
     "execution_count": 752,
     "metadata": {},
     "output_type": "execute_result"
    }
   ],
   "source": [
    "metrics_train"
   ]
  },
  {
   "cell_type": "markdown",
   "metadata": {},
   "source": [
    "#### Metrics test"
   ]
  },
  {
   "cell_type": "code",
   "execution_count": 753,
   "metadata": {},
   "outputs": [],
   "source": [
    "metrics_test = pd.DataFrame(evaluate_all(fit_models, X_test, y_test))"
   ]
  },
  {
   "cell_type": "code",
   "execution_count": 754,
   "metadata": {},
   "outputs": [
    {
     "data": {
      "text/html": [
       "<div>\n",
       "<style scoped>\n",
       "    .dataframe tbody tr th:only-of-type {\n",
       "        vertical-align: middle;\n",
       "    }\n",
       "\n",
       "    .dataframe tbody tr th {\n",
       "        vertical-align: top;\n",
       "    }\n",
       "\n",
       "    .dataframe thead th {\n",
       "        text-align: right;\n",
       "    }\n",
       "</style>\n",
       "<table border=\"1\" class=\"dataframe\">\n",
       "  <thead>\n",
       "    <tr style=\"text-align: right;\">\n",
       "      <th></th>\n",
       "      <th>linear regression</th>\n",
       "      <th>elastic net</th>\n",
       "      <th>random forest</th>\n",
       "      <th>catboost</th>\n",
       "      <th>SVR</th>\n",
       "    </tr>\n",
       "  </thead>\n",
       "  <tbody>\n",
       "    <tr>\n",
       "      <th>MAE</th>\n",
       "      <td>0.054</td>\n",
       "      <td>0.092</td>\n",
       "      <td>0.052</td>\n",
       "      <td>0.053</td>\n",
       "      <td>0.074</td>\n",
       "    </tr>\n",
       "    <tr>\n",
       "      <th>MSE</th>\n",
       "      <td>0.010</td>\n",
       "      <td>0.038</td>\n",
       "      <td>0.015</td>\n",
       "      <td>0.019</td>\n",
       "      <td>0.123</td>\n",
       "    </tr>\n",
       "    <tr>\n",
       "      <th>RMSE</th>\n",
       "      <td>0.102</td>\n",
       "      <td>0.195</td>\n",
       "      <td>0.120</td>\n",
       "      <td>0.138</td>\n",
       "      <td>0.351</td>\n",
       "    </tr>\n",
       "    <tr>\n",
       "      <th>R2</th>\n",
       "      <td>0.986</td>\n",
       "      <td>0.949</td>\n",
       "      <td>0.981</td>\n",
       "      <td>0.975</td>\n",
       "      <td>0.836</td>\n",
       "    </tr>\n",
       "  </tbody>\n",
       "</table>\n",
       "</div>"
      ],
      "text/plain": [
       "      linear regression  elastic net  random forest  catboost    SVR\n",
       "MAE               0.054        0.092          0.052     0.053  0.074\n",
       "MSE               0.010        0.038          0.015     0.019  0.123\n",
       "RMSE              0.102        0.195          0.120     0.138  0.351\n",
       "R2                0.986        0.949          0.981     0.975  0.836"
      ]
     },
     "execution_count": 754,
     "metadata": {},
     "output_type": "execute_result"
    }
   ],
   "source": [
    "metrics_test"
   ]
  },
  {
   "cell_type": "markdown",
   "metadata": {},
   "source": [
    "### Neural net"
   ]
  },
  {
   "cell_type": "markdown",
   "metadata": {},
   "source": [
    "Попробуем обучить простейшую fully-connected нейронку just for fun"
   ]
  },
  {
   "cell_type": "code",
   "execution_count": 755,
   "metadata": {},
   "outputs": [],
   "source": [
    "X_train = torch.Tensor(StandardScaler().fit_transform(X_train))\n",
    "y_train = torch.Tensor(y_train.to_numpy()).reshape((-1,1))\n",
    "X_test = torch.Tensor(StandardScaler().fit_transform(X_test))\n",
    "y_test = torch.Tensor(y_test.to_numpy()).reshape((-1,1))"
   ]
  },
  {
   "cell_type": "code",
   "execution_count": 756,
   "metadata": {},
   "outputs": [],
   "source": [
    "class NeuralNet(torch.nn.Module):\n",
    "    def __init__(self,\n",
    "                    n_hidden_neurons: dict,\n",
    "                    ):\n",
    "        super().__init__()\n",
    "        self.n_hidden_neurons = n_hidden_neurons\n",
    "        self.blocks = []\n",
    "        if isinstance(self.n_hidden_neurons, dict):\n",
    "            for _, num_nn in self.n_hidden_neurons.items():            \n",
    "                self.blocks.append(torch.nn.Linear(num_nn[0], num_nn[1]))  \n",
    "                self.blocks.append(torch.nn.ReLU())\n",
    "                self.blocks.append(torch.nn.Dropout(0.7))\n",
    "            self.blocks.append(torch.nn.Linear(num_nn[1], 1))\n",
    "        else:\n",
    "            self.blocks.append(torch.nn.Linear(self.n_hidden_neurons, 1))\n",
    "        self.core_layers = torch.nn.Sequential(*self.blocks)\n",
    "    \n",
    "    def forward(self, x):\n",
    "        for block in self.core_layers:\n",
    "            x = block(x)\n",
    "        return x"
   ]
  },
  {
   "cell_type": "code",
   "execution_count": 757,
   "metadata": {},
   "outputs": [],
   "source": [
    "# nn = NeuralNet(\n",
    "#     {\n",
    "#         '0': (X_train.shape[1], 10),\n",
    "#         # '1': (100, 10)\n",
    "#     }\n",
    "# )\n",
    "nn = NeuralNet(X_train.shape[1])\n",
    "loss = torch.nn.MSELoss()\n",
    "optimizer = torch.optim.Adam(nn.parameters(), lr=1e-03)"
   ]
  },
  {
   "cell_type": "code",
   "execution_count": 758,
   "metadata": {},
   "outputs": [
    {
     "data": {
      "text/plain": [
       "NeuralNet(\n",
       "  (core_layers): Sequential(\n",
       "    (0): Linear(in_features=8, out_features=1, bias=True)\n",
       "  )\n",
       ")"
      ]
     },
     "execution_count": 758,
     "metadata": {},
     "output_type": "execute_result"
    }
   ],
   "source": [
    "nn"
   ]
  },
  {
   "cell_type": "code",
   "execution_count": 759,
   "metadata": {},
   "outputs": [],
   "source": [
    "BATCH_SIZE = 128\n",
    "EPOCHS = 60"
   ]
  },
  {
   "cell_type": "code",
   "execution_count": 760,
   "metadata": {},
   "outputs": [
    {
     "name": "stdout",
     "output_type": "stream",
     "text": [
      "Epoch 0, MSE: 0.926544725894928\n",
      "Epoch 10, MSE: 0.09223613142967224\n",
      "Epoch 20, MSE: 0.039957161992788315\n",
      "Epoch 30, MSE: 0.027009684592485428\n",
      "Epoch 40, MSE: 0.02000257931649685\n",
      "Epoch 50, MSE: 0.016006162390112877\n",
      "MSE (train): 0.01364442054182291\n",
      "MSE (test): 0.05980892479419708\n"
     ]
    }
   ],
   "source": [
    "for iteration in range(EPOCHS):\n",
    "    order = np.random.permutation(X_train.shape[0])\n",
    "    X_train = X_train[order]\n",
    "    y_train = y_train[order]\n",
    "    num_batches = X_train.shape[0] // BATCH_SIZE\n",
    "    for batch in range(0, num_batches + 1):\n",
    "        X_batch = X_train[batch*BATCH_SIZE:(batch + 1)*BATCH_SIZE]\n",
    "        y_batch = y_train[batch*BATCH_SIZE:(batch + 1)*BATCH_SIZE]            \n",
    "        optimizer.zero_grad()                        \n",
    "        preds = nn(X_batch)\n",
    "        loss_batch = loss(preds, y_batch)\n",
    "        loss_batch.backward()\n",
    "        optimizer.step()\n",
    "    if iteration % 10 == 0:\n",
    "        with torch.no_grad():\n",
    "            y_pred = nn(X_train)\n",
    "            mse = mean_squared_error(y_train, y_pred)\n",
    "            print(f\"Epoch {iteration}, MSE: {mse}\")\n",
    "with torch.no_grad():\n",
    "    y_test_pred = nn.eval()(X_test)\n",
    "    y_train_pred = nn.eval()(X_train)\n",
    "    mse_test = mean_squared_error(y_test, y_test_pred)\n",
    "    mse_train = mean_squared_error(y_train, y_train_pred)\n",
    "    print(f\"MSE (train): {mse_train}\")\n",
    "    print(f\"MSE (test): {mse_test}\")\n"
   ]
  },
  {
   "cell_type": "code",
   "execution_count": 761,
   "metadata": {},
   "outputs": [
    {
     "name": "stdout",
     "output_type": "stream",
     "text": [
      "Train MAE: 0.072087861597538\n",
      "Test MAE: 0.0910433679819107\n",
      "Train MSE: 0.01364442054182291\n",
      "Test MSE: 0.05980892479419708\n",
      "Train RMSE: 0.11680933088064194\n",
      "Test RMSE: 0.24455863237380981\n",
      "Train R2: 0.9698720761088876\n",
      "Test R2: 0.9204758306211185\n"
     ]
    }
   ],
   "source": [
    "print(f\"Train MAE: {mean_absolute_error(y_train, y_train_pred)}\")\n",
    "print(f\"Test MAE: {mean_absolute_error(y_test, y_test_pred)}\")\n",
    "\n",
    "print(f\"Train MSE: {mean_squared_error(y_train, y_train_pred)}\")\n",
    "print(f\"Test MSE: {mean_squared_error(y_test, y_test_pred)}\")\n",
    "\n",
    "print(f\"Train RMSE: {root_mean_squared_error(y_train, y_train_pred)}\")\n",
    "print(f\"Test RMSE: {root_mean_squared_error(y_test, y_test_pred)}\")\n",
    "\n",
    "print(f\"Train R2: {r2_score(y_train, y_train_pred)}\")\n",
    "print(f\"Test R2: {r2_score(y_test, y_test_pred)}\")"
   ]
  },
  {
   "cell_type": "code",
   "execution_count": 765,
   "metadata": {},
   "outputs": [],
   "source": [
    "metrics_nn_train = evaluate(nn, X_train, y_train.detach().numpy(), model_type='torch')\n",
    "metrics_nn_test = evaluate(nn, X_test, y_test.detach().numpy(), model_type='torch')"
   ]
  },
  {
   "cell_type": "code",
   "execution_count": 766,
   "metadata": {},
   "outputs": [],
   "source": [
    "metrics_train['NN'] = list(metrics_nn_train.values())\n",
    "metrics_test['NN'] = list(metrics_nn_test.values())"
   ]
  },
  {
   "cell_type": "markdown",
   "metadata": {},
   "source": [
    "### Final metrics"
   ]
  },
  {
   "cell_type": "code",
   "execution_count": 767,
   "metadata": {},
   "outputs": [
    {
     "data": {
      "text/html": [
       "<div>\n",
       "<style scoped>\n",
       "    .dataframe tbody tr th:only-of-type {\n",
       "        vertical-align: middle;\n",
       "    }\n",
       "\n",
       "    .dataframe tbody tr th {\n",
       "        vertical-align: top;\n",
       "    }\n",
       "\n",
       "    .dataframe thead th {\n",
       "        text-align: right;\n",
       "    }\n",
       "</style>\n",
       "<table border=\"1\" class=\"dataframe\">\n",
       "  <thead>\n",
       "    <tr style=\"text-align: right;\">\n",
       "      <th></th>\n",
       "      <th>linear regression</th>\n",
       "      <th>elastic net</th>\n",
       "      <th>random forest</th>\n",
       "      <th>catboost</th>\n",
       "      <th>SVR</th>\n",
       "      <th>NN</th>\n",
       "    </tr>\n",
       "  </thead>\n",
       "  <tbody>\n",
       "    <tr>\n",
       "      <th>MAE</th>\n",
       "      <td>0.054</td>\n",
       "      <td>0.087</td>\n",
       "      <td>0.041</td>\n",
       "      <td>0.043</td>\n",
       "      <td>0.058</td>\n",
       "      <td>0.072</td>\n",
       "    </tr>\n",
       "    <tr>\n",
       "      <th>MSE</th>\n",
       "      <td>0.008</td>\n",
       "      <td>0.025</td>\n",
       "      <td>0.003</td>\n",
       "      <td>0.004</td>\n",
       "      <td>0.033</td>\n",
       "      <td>0.014</td>\n",
       "    </tr>\n",
       "    <tr>\n",
       "      <th>RMSE</th>\n",
       "      <td>0.092</td>\n",
       "      <td>0.157</td>\n",
       "      <td>0.058</td>\n",
       "      <td>0.062</td>\n",
       "      <td>0.183</td>\n",
       "      <td>0.117</td>\n",
       "    </tr>\n",
       "    <tr>\n",
       "      <th>R2</th>\n",
       "      <td>0.981</td>\n",
       "      <td>0.946</td>\n",
       "      <td>0.993</td>\n",
       "      <td>0.992</td>\n",
       "      <td>0.926</td>\n",
       "      <td>0.970</td>\n",
       "    </tr>\n",
       "  </tbody>\n",
       "</table>\n",
       "</div>"
      ],
      "text/plain": [
       "      linear regression  elastic net  random forest  catboost    SVR     NN\n",
       "MAE               0.054        0.087          0.041     0.043  0.058  0.072\n",
       "MSE               0.008        0.025          0.003     0.004  0.033  0.014\n",
       "RMSE              0.092        0.157          0.058     0.062  0.183  0.117\n",
       "R2                0.981        0.946          0.993     0.992  0.926  0.970"
      ]
     },
     "execution_count": 767,
     "metadata": {},
     "output_type": "execute_result"
    }
   ],
   "source": [
    "metrics_train"
   ]
  },
  {
   "cell_type": "code",
   "execution_count": 764,
   "metadata": {},
   "outputs": [
    {
     "data": {
      "text/html": [
       "<div>\n",
       "<style scoped>\n",
       "    .dataframe tbody tr th:only-of-type {\n",
       "        vertical-align: middle;\n",
       "    }\n",
       "\n",
       "    .dataframe tbody tr th {\n",
       "        vertical-align: top;\n",
       "    }\n",
       "\n",
       "    .dataframe thead th {\n",
       "        text-align: right;\n",
       "    }\n",
       "</style>\n",
       "<table border=\"1\" class=\"dataframe\">\n",
       "  <thead>\n",
       "    <tr style=\"text-align: right;\">\n",
       "      <th></th>\n",
       "      <th>linear regression</th>\n",
       "      <th>elastic net</th>\n",
       "      <th>random forest</th>\n",
       "      <th>catboost</th>\n",
       "      <th>SVR</th>\n",
       "      <th>NN</th>\n",
       "    </tr>\n",
       "  </thead>\n",
       "  <tbody>\n",
       "    <tr>\n",
       "      <th>MAE</th>\n",
       "      <td>0.054</td>\n",
       "      <td>0.092</td>\n",
       "      <td>0.052</td>\n",
       "      <td>0.053</td>\n",
       "      <td>0.074</td>\n",
       "      <td>0.091</td>\n",
       "    </tr>\n",
       "    <tr>\n",
       "      <th>MSE</th>\n",
       "      <td>0.010</td>\n",
       "      <td>0.038</td>\n",
       "      <td>0.015</td>\n",
       "      <td>0.019</td>\n",
       "      <td>0.123</td>\n",
       "      <td>0.060</td>\n",
       "    </tr>\n",
       "    <tr>\n",
       "      <th>RMSE</th>\n",
       "      <td>0.102</td>\n",
       "      <td>0.195</td>\n",
       "      <td>0.120</td>\n",
       "      <td>0.138</td>\n",
       "      <td>0.351</td>\n",
       "      <td>0.245</td>\n",
       "    </tr>\n",
       "    <tr>\n",
       "      <th>R2</th>\n",
       "      <td>0.986</td>\n",
       "      <td>0.949</td>\n",
       "      <td>0.981</td>\n",
       "      <td>0.975</td>\n",
       "      <td>0.836</td>\n",
       "      <td>0.920</td>\n",
       "    </tr>\n",
       "  </tbody>\n",
       "</table>\n",
       "</div>"
      ],
      "text/plain": [
       "      linear regression  elastic net  random forest  catboost    SVR     NN\n",
       "MAE               0.054        0.092          0.052     0.053  0.074  0.091\n",
       "MSE               0.010        0.038          0.015     0.019  0.123  0.060\n",
       "RMSE              0.102        0.195          0.120     0.138  0.351  0.245\n",
       "R2                0.986        0.949          0.981     0.975  0.836  0.920"
      ]
     },
     "execution_count": 764,
     "metadata": {},
     "output_type": "execute_result"
    }
   ],
   "source": [
    "metrics_test"
   ]
  },
  {
   "cell_type": "markdown",
   "metadata": {},
   "source": [
    "### Summary"
   ]
  },
  {
   "cell_type": "markdown",
   "metadata": {},
   "source": [
    "1. С точки зрения MSE, RMSE, R2 на test выборке наиболее лучшим оказалась обычная линейная регрессия **(MSE=0.01)**\n",
    "1. С другой стороны, такие алгоритмы на деревьях (random forest и catboost) также показывают неплохое качество, а некоторые метрики (MAE) даже чуть ниже на test\n",
    "1. Для улучшения качества предсказаний можно:\n",
    "    * добавить дополнительные фичи, основанные на характеристиках графа (например, принадлженость к сообществам), другие меры центральности и т.д.\n",
    "    * более тщательно потюнить параметры использованных алгоритмов\n",
    "    * возможно, более тщательно поработать с препроцессингом данных\n",
    "    * использовать более продвинутые алгоритмы для работы с графами (например, графовые нейронки) "
   ]
  }
 ],
 "metadata": {
  "kernelspec": {
   "display_name": "base",
   "language": "python",
   "name": "python3"
  },
  "language_info": {
   "codemirror_mode": {
    "name": "ipython",
    "version": 3
   },
   "file_extension": ".py",
   "mimetype": "text/x-python",
   "name": "python",
   "nbconvert_exporter": "python",
   "pygments_lexer": "ipython3",
   "version": "3.12.3"
  },
  "toc": {
   "base_numbering": 1,
   "nav_menu": {},
   "number_sections": true,
   "sideBar": true,
   "skip_h1_title": false,
   "title_cell": "Table of Contents",
   "title_sidebar": "Contents",
   "toc_cell": false,
   "toc_position": {},
   "toc_section_display": true,
   "toc_window_display": false
  }
 },
 "nbformat": 4,
 "nbformat_minor": 4
}
